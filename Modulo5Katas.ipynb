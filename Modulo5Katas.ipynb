{
 "cells": [
  {
   "cell_type": "markdown",
   "metadata": {},
   "source": [
    "Ejercicio1 - Utilizar operadores aritméticos\n"
   ]
  },
  {
   "cell_type": "code",
   "execution_count": 23,
   "metadata": {},
   "outputs": [
    {
     "name": "stdout",
     "output_type": "stream",
     "text": [
      "-628949330\n",
      "-390577534\n"
     ]
    }
   ],
   "source": [
    "\n",
    "Tierra = 149597870\n",
    "Jupiter = 778547200\n",
    "\n",
    "resta = Tierra - Jupiter\n",
    "\n",
    "print(resta)\n",
    "\n",
    "distancia_millas= resta * 0.621\n",
    "print(round(distancia_millas))\n"
   ]
  },
  {
   "cell_type": "markdown",
   "metadata": {},
   "source": [
    "Ejercicio 2: convierte cadenas en números y usa valores absolutos\n"
   ]
  },
  {
   "cell_type": "code",
   "execution_count": 24,
   "metadata": {},
   "outputs": [
    {
     "name": "stdout",
     "output_type": "stream",
     "text": [
      "-50300000\n",
      "31236300.0\n"
     ]
    }
   ],
   "source": [
    "Planeta_1 = input(\"Cual es la distancia del planeta 1 en KM\")\n",
    "\n",
    "Planeta_2 = input(\"Cual es la distancia del planeta 2 en KM\")\n",
    "\n",
    "Planeta_1 =int(Planeta_1)\n",
    "Planeta_2= int(Planeta_2)\n",
    "\n",
    "distancia_km = Planeta_1 - Planeta_2\n",
    "print(distancia_km)\n",
    "\n",
    "distancia_millas= distancia_km * 0.621\n",
    "print(abs(distancia_millas))    \n"
   ]
  }
 ],
 "metadata": {
  "interpreter": {
   "hash": "0deda3f9d8e967e899d5894d70d9ad9a27b6421e38e959054de2163b80f96edd"
  },
  "kernelspec": {
   "display_name": "Python 3.8.3 64-bit",
   "language": "python",
   "name": "python3"
  },
  "language_info": {
   "codemirror_mode": {
    "name": "ipython",
    "version": 3
   },
   "file_extension": ".py",
   "mimetype": "text/x-python",
   "name": "python",
   "nbconvert_exporter": "python",
   "pygments_lexer": "ipython3",
   "version": "3.8.3"
  },
  "orig_nbformat": 4
 },
 "nbformat": 4,
 "nbformat_minor": 2
}
