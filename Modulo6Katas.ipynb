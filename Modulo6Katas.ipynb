{
 "cells": [
  {
   "cell_type": "markdown",
   "metadata": {},
   "source": [
    "Ejercicio1: Crear y usar listas de Python\n"
   ]
  },
  {
   "cell_type": "code",
   "execution_count": 6,
   "metadata": {},
   "outputs": [
    {
     "name": "stdout",
     "output_type": "stream",
     "text": [
      "Existen 8 planetas en el sistema solar\n",
      "El ultimo planeta es: Pluton\n"
     ]
    }
   ],
   "source": [
    "planetas = ['Mercurio','Venus','Tierra','Marte','Jupiter','Saturno','Urano','Neptuno']\n",
    "\n",
    "\n",
    "print(\"Existen\", len(planetas), \"planetas en el sistema solar\")\n",
    "\n",
    "planetas.append(\"Pluton\")\n",
    "\n",
    "print('El ultimo planeta es:', planetas[-1])"
   ]
  },
  {
   "cell_type": "markdown",
   "metadata": {},
   "source": [
    "Ejercicio 2: Trabajando con datos de una lista\n"
   ]
  },
  {
   "cell_type": "code",
   "execution_count": null,
   "metadata": {},
   "outputs": [],
   "source": [
    "planetas = ['Mercurio','Venus','Tierra','Marte','Jupiter','Saturno','Urano','Neptuno']\n",
    "\n",
    "planeta_nuevo = input(\"Ingresa Un planeta 'Letra mayuscula al principio'\")\n",
    "\n",
    "planetas.append(planeta_nuevo)\n",
    "print(len(planetas))\n",
    "\n",
    "buscar = planetas.index(planeta_nuevo)\n",
    "\n",
    "print('Existen actualmente', buscar + 1, 'Planetas en el sistema solar')\n",
    "\n",
    "print(\"Planetas mas cercanos al sol\", planetas[0:])\n",
    "\n",
    "print(planetas[buscar + 1:])\n",
    "\n",
    "for i in reversed(planetas):\n",
    "    print(i)"
   ]
  }
 ],
 "metadata": {
  "interpreter": {
   "hash": "0deda3f9d8e967e899d5894d70d9ad9a27b6421e38e959054de2163b80f96edd"
  },
  "kernelspec": {
   "display_name": "Python 3.8.3 64-bit",
   "language": "python",
   "name": "python3"
  },
  "language_info": {
   "codemirror_mode": {
    "name": "ipython",
    "version": 3
   },
   "file_extension": ".py",
   "mimetype": "text/x-python",
   "name": "python",
   "nbconvert_exporter": "python",
   "pygments_lexer": "ipython3",
   "version": "3.8.3"
  },
  "orig_nbformat": 4
 },
 "nbformat": 4,
 "nbformat_minor": 2
}
