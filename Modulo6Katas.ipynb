{
 "cells": [
  {
   "cell_type": "code",
   "execution_count": null,
   "metadata": {},
   "outputs": [],
   "source": [
    "planetas = ['Tierra','Marte','Jupiter','Venus','Saturno','Urano','Neptuno','Mercurio']\n",
    "\n",
    "print(\"El primer planeta es: \",planetas[0])\n",
    "print(\"El Segundo planeta es: \",planetas[1])\n",
    "print(\"El Tercer planeta es: \",planetas[2])\n",
    "\n",
    "#Cambio de un valor en la lista\n",
    "planetas[2] = 'Planeta rojo'\n",
    "print('Marte es conocido como el: ', planetas[2])\n",
    "\n",
    "numero_planetas = len(planetas)\n",
    "print(\"Existen\", numero_planetas, \"planetas en el sistema solar\")\n",
    "\n",
    "#Agregar un elemento a la lista\n",
    "planetas.append(\"Pluto\")\n",
    "numero_planetas = len(planetas)\n",
    "print(\"Actualmente existen\", numero_planetas,\"Planetas en el sistema solar\")\n",
    "\n",
    "#Eliminar el ultimo  elemento a la lista\n",
    "planetas.pop()\n",
    "numero_planetas = len(planetas)\n",
    "print(\"No, Actualmente existen\", numero_planetas,\"Planetas en el sistema solar\")\n",
    "\n",
    "# Regresar elementos al final de la lista\n",
    "print('El ultimo planeta es:', planetas[-1])\n",
    "print('El penultimo planeta es:', planetas[-2])\n",
    "\n",
    "#Buscar elementos en una lista\n",
    "buscar_marte = planetas.index('Marte')\n",
    "print('Marte es el', buscar_marte + 1, 'Planeta en el sistema solar')\n",
    "\n"
   ]
  },
  {
   "cell_type": "code",
   "execution_count": null,
   "metadata": {},
   "outputs": [],
   "source": [
    "# Almacenar datos float\n",
    "\n",
    "gravedad_tierra= 1.0\n",
    "gravedad_luna = 0.166\n",
    "\n",
    "gravidad_en_planetas = [0.378, 0.907, 1, 0.379, 2.36, 0.916, 0.889, 1.12]\n",
    "\n",
    "peso_bus = 12650\n",
    "\n",
    "# Hacer cuentas con elementos de una lista\n",
    "print(\"En la tierra un bus pesa: \",peso_bus, \"kg\")\n",
    "print(\"En mercurio un bus pesa: \",peso_bus * gravidad_en_planetas[0],\"kg\")\n",
    "\n",
    "# Funcion min y max toma el elemento mas pequeño y mas grande de una lista\n",
    "print(\"En la tierra un bus pesa: \",peso_bus, \"kg\")\n",
    "print(\"El menor peso de un bus en el sistema solar es: \",peso_bus * min(gravidad_en_planetas),\"kg\")\n",
    "print(\"El mayor peso un bus en el sistema solar es: \",peso_bus * max(gravidad_en_planetas),\"kg\")\n",
    "\n",
    "\n",
    "\n",
    "\n"
   ]
  },
  {
   "cell_type": "code",
   "execution_count": null,
   "metadata": {},
   "outputs": [],
   "source": [
    "planetas = ['Mercurio','Venus','Tierra','Marte','Jupiter','Saturno','Urano','Neptuno']\n",
    "\n",
    "#Puedes seleccionar una parte de la lista\n",
    "planetas_antes_tierra = planetas[0:2]\n",
    "print(planetas_antes_tierra)\n",
    "\n",
    "# Recorrer lista al final si no se pone numero donde termina\n",
    "planetas_despues_tierra = planetas[3:]\n",
    "print(planetas_despues_tierra)\n",
    "\n",
    "# Unir 2 listas \n",
    "amaltea_grupo = ['Metis', 'Adrastea', 'Amalthea', 'Thebe']\n",
    "lunas_galileanas = ['Io', 'Europa', 'Ganymede', 'Callisto']\n",
    "\n",
    "lunas_regulares = amaltea_grupo + lunas_galileanas\n",
    "print('Las lunas de jupiter son: ', lunas_regulares)\n",
    "\n",
    "# Ordenar lista en orden alfabetico\n",
    "lunas_regulares.sort()\n",
    "print(\"Las lunas de jupiter son: \",lunas_regulares)\n",
    "\n",
    "# Ordenar lista de forma inversa alfabeticas\n",
    "lunas_regulares.sort(reverse=True)\n",
    "print(\"Las lunas de jupiter son: \",lunas_regulares)\n",
    "\n",
    "\n"
   ]
  },
  {
   "cell_type": "markdown",
   "metadata": {},
   "source": [
    "Ejercicio1: Crear y usar listas de Python\n"
   ]
  },
  {
   "cell_type": "code",
   "execution_count": 6,
   "metadata": {},
   "outputs": [
    {
     "name": "stdout",
     "output_type": "stream",
     "text": [
      "Existen 8 planetas en el sistema solar\n",
      "El ultimo planeta es: Pluton\n"
     ]
    }
   ],
   "source": [
    "planetas = ['Mercurio','Venus','Tierra','Marte','Jupiter','Saturno','Urano','Neptuno']\n",
    "\n",
    "\n",
    "print(\"Existen\", len(planetas), \"planetas en el sistema solar\")\n",
    "\n",
    "planetas.append(\"Pluton\")\n",
    "\n",
    "print('El ultimo planeta es:', planetas[-1])"
   ]
  },
  {
   "cell_type": "markdown",
   "metadata": {},
   "source": [
    "Ejercicio 2: Trabajando con datos de una lista\n"
   ]
  },
  {
   "cell_type": "code",
   "execution_count": 49,
   "metadata": {},
   "outputs": [
    {
     "name": "stdout",
     "output_type": "stream",
     "text": [
      "9\n",
      "Existen actualmente 9 Planetas en el sistema solar\n",
      "Planetas mas cercanos al sol ['Mercurio', 'Venus', 'Tierra', 'Marte', 'Jupiter', 'Saturno', 'Urano', 'Neptuno', 'Pio']\n",
      "[]\n",
      "Pio\n",
      "Neptuno\n",
      "Urano\n",
      "Saturno\n",
      "Jupiter\n",
      "Marte\n",
      "Tierra\n",
      "Venus\n",
      "Mercurio\n"
     ]
    }
   ],
   "source": [
    "planetas = ['Mercurio','Venus','Tierra','Marte','Jupiter','Saturno','Urano','Neptuno']\n",
    "\n",
    "planeta_nuevo = input(\"Ingresa Un planeta 'Letra mayuscula al principio'\")\n",
    "\n",
    "planetas.append(planeta_nuevo)\n",
    "print(len(planetas))\n",
    "\n",
    "buscar = planetas.index(planeta_nuevo)\n",
    "\n",
    "print('Existen actualmente', buscar + 1, 'Planetas en el sistema solar')\n",
    "\n",
    "print(\"Planetas mas cercanos al sol\", planetas[0:])\n",
    "\n",
    "print(planetas[buscar + 1:])\n",
    "\n",
    "for i in reversed(planetas):\n",
    "    print(i)"
   ]
  }
 ],
 "metadata": {
  "interpreter": {
   "hash": "0deda3f9d8e967e899d5894d70d9ad9a27b6421e38e959054de2163b80f96edd"
  },
  "kernelspec": {
   "display_name": "Python 3.8.3 64-bit",
   "language": "python",
   "name": "python3"
  },
  "language_info": {
   "codemirror_mode": {
    "name": "ipython",
    "version": 3
   },
   "file_extension": ".py",
   "mimetype": "text/x-python",
   "name": "python",
   "nbconvert_exporter": "python",
   "pygments_lexer": "ipython3",
   "version": "3.8.3"
  },
  "orig_nbformat": 4
 },
 "nbformat": 4,
 "nbformat_minor": 2
}
