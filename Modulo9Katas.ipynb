{
 "cells": [
  {
   "cell_type": "markdown",
   "metadata": {},
   "source": [
    "Ejercicio 1: Trabajar con argumentos en funciones\n"
   ]
  },
  {
   "cell_type": "code",
   "execution_count": null,
   "metadata": {},
   "outputs": [],
   "source": [
    "\n",
    "def informe(tanque_interno, tanque_externo, tanque_oxigeno):\n",
    "    total_promedio = (tanque_interno + tanque_externo + tanque_oxigeno) / 3\n",
    "    return f\"\"\"Informe Tanque:\n",
    "    Promedio Total: {total_promedio}%\n",
    "    Tanque pricipal: {tanque_interno}%\n",
    "    Tanque Externo: {tanque_externo}%\n",
    "    Tanque oxigeno: {tanque_oxigeno}% \n",
    "    \"\"\"\n",
    "\n",
    "print(informe(80,90,70))\n",
    "\n",
    "# Función promedio \n",
    "def promedio(valores):\n",
    "    total = sum(valores)\n",
    "    numero_objetos = len(valores)\n",
    "    return total / numero_objetos\n",
    "\n",
    "promedio([90, 80, 70]) \n",
    "\n",
    "\n",
    "def informe(tanque_interno, tanque_externo, tanque_oxigeno):\n",
    "    total_promedio = (tanque_interno + tanque_externo + tanque_oxigeno) / 3\n",
    "    return f\"\"\"Informe Tanque 2:\n",
    "    Promedio Total: {promedio([tanque_interno, tanque_externo, tanque_oxigeno])}%\n",
    "    Tanque pricipal: {tanque_interno}%\n",
    "    Tanque Externo: {tanque_externo}%\n",
    "    Tanque oxigeno: {tanque_oxigeno}% \n",
    "    \"\"\"\n",
    "\n",
    "# Call the updated function again with different values\n",
    "print(informe(88, 76, 70))\n",
    "\n",
    "\n"
   ]
  },
  {
   "cell_type": "markdown",
   "metadata": {},
   "source": [
    "Ejercicio 2: Trabajo con argumentos de palabra clave\n"
   ]
  },
  {
   "cell_type": "code",
   "execution_count": 19,
   "metadata": {},
   "outputs": [
    {
     "name": "stdout",
     "output_type": "stream",
     "text": [
      "\n",
      "    Mision A: Marte\n",
      "    Total Tiempo de viaje: 120 Minutos\n",
      "    Combustible restante: 3500000 Galones\n",
      "    \n",
      "\n",
      "    Mision a: Marte\n",
      "    Total tiempo de viaje: 95 Minutos\n",
      "    Combustible restante: 800000\n",
      "    \n",
      "\n",
      "    Mision a: Marte\n",
      "    Total tiempo de viaje: 92 Minutos\n",
      "    Combustible restante: 500000\n",
      "    principal Tanque --> 300000 galones\n",
      "externo Tanque --> 200000 galones\n",
      "\n"
     ]
    }
   ],
   "source": [
    "# Funcion 1\n",
    "def reporte_mision(prelanzamiento, tiempo_vuelo, destino, tanque_externo , tanque_interno):\n",
    "    return f\"\"\"\n",
    "    Mision A: {destino}\n",
    "    Total Tiempo de viaje: {prelanzamiento + tiempo_vuelo} Minutos\n",
    "    Combustible restante: {tanque_externo + tanque_interno} Galones\n",
    "    \"\"\"\n",
    "\n",
    "print(reporte_mision(40, 80, \"Marte\", 1500000, 2000000))\n",
    "\n",
    "# Funcion 2\n",
    "def reporte_mision(destino, *minutos, **reservas_combustible):\n",
    "    return f\"\"\"\n",
    "    Mision a: {destino}\n",
    "    Total tiempo de viaje: {sum(minutos)} Minutos\n",
    "    Combustible restante: {sum(reservas_combustible.values())}\n",
    "    \"\"\"\n",
    "\n",
    "print(reporte_mision(\"Marte\", 15, 20, 60, principal=500000, externo=300000))\n",
    "\n",
    "# Funcion 3\n",
    "def reporte_mision(destino, *minutos, **reservas_combustible):\n",
    "    reporte_principal = f\"\"\"\n",
    "    Mision a: {destino}\n",
    "    Total tiempo de viaje: {sum(minutos)} Minutos\n",
    "    Combustible restante: {sum(reservas_combustible.values())}\n",
    "    \"\"\"\n",
    "    for nombre_tanque, galones in reservas_combustible.items():\n",
    "        reporte_principal += f\"{nombre_tanque} Tanque --> {galones} galones\\n\"\n",
    "    return reporte_principal\n",
    "\n",
    "print(reporte_mision(\"Marte\", 12, 15, 65, principal=300000, externo=200000))"
   ]
  }
 ],
 "metadata": {
  "interpreter": {
   "hash": "0deda3f9d8e967e899d5894d70d9ad9a27b6421e38e959054de2163b80f96edd"
  },
  "kernelspec": {
   "display_name": "Python 3.8.3 64-bit",
   "language": "python",
   "name": "python3"
  },
  "language_info": {
   "codemirror_mode": {
    "name": "ipython",
    "version": 3
   },
   "file_extension": ".py",
   "mimetype": "text/x-python",
   "name": "python",
   "nbconvert_exporter": "python",
   "pygments_lexer": "ipython3",
   "version": "3.8.3"
  },
  "orig_nbformat": 4
 },
 "nbformat": 4,
 "nbformat_minor": 2
}
