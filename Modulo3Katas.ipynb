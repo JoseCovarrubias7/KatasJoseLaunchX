{
 "cells": [
  {
   "cell_type": "markdown",
   "metadata": {},
   "source": [
    "Problema No.1"
   ]
  },
  {
   "cell_type": "code",
   "execution_count": 13,
   "metadata": {},
   "outputs": [
    {
     "name": "stdout",
     "output_type": "stream",
     "text": [
      "Advertencia asteroide \n"
     ]
    }
   ],
   "source": [
    "vel_asteroide = 49\n",
    "\n",
    "\n",
    "if vel_asteroide > 25:\n",
    "    print(\"Advertencia asteroide \")\n",
    "else:\n",
    "    print(\"Sin ningun problema\" )"
   ]
  },
  {
   "cell_type": "markdown",
   "metadata": {},
   "source": [
    "Problema No.2"
   ]
  },
  {
   "cell_type": "code",
   "execution_count": 24,
   "metadata": {},
   "outputs": [
    {
     "name": "stdout",
     "output_type": "stream",
     "text": [
      "Sin novedades en el cielo\n"
     ]
    }
   ],
   "source": [
    "vel_asteroide = 18\n",
    "\n",
    "if vel_asteroide > 20:\n",
    "    print(\"Se puede ver un rayo de luz en el cielo\")\n",
    "elif vel_asteroide == 20:\n",
    "    print(\"Se puede ver un rayo de luz en el cielo\")\n",
    "else:\n",
    "    print(\"Sin novedades en el cielo\")"
   ]
  },
  {
   "cell_type": "markdown",
   "metadata": {},
   "source": [
    "Problema No.3"
   ]
  },
  {
   "cell_type": "code",
   "execution_count": 30,
   "metadata": {},
   "outputs": [
    {
     "name": "stdout",
     "output_type": "stream",
     "text": [
      "Nada que ver en el cielo: \n"
     ]
    }
   ],
   "source": [
    "vel_asteroide = 1\n",
    "tam_asteroide = 50\n",
    "\n",
    "if vel_asteroide > 25 and tam_asteroide > 25:\n",
    "    print(\"Advertencia un asteroide muy peligroso viene a la tierra!\")\n",
    "elif vel_asteroide >=20:\n",
    "    print(\"Se puede ver un rayo de luz en el cielo\")\n",
    "elif tam_asteroide < 25:\n",
    "    print(\"Nada que ver en el cielo:\")\n",
    "else:\n",
    "    print(\"Nada que ver en el cielo: \")"
   ]
  }
 ],
 "metadata": {
  "interpreter": {
   "hash": "0deda3f9d8e967e899d5894d70d9ad9a27b6421e38e959054de2163b80f96edd"
  },
  "kernelspec": {
   "display_name": "Python 3.8.3 64-bit",
   "language": "python",
   "name": "python3"
  },
  "language_info": {
   "codemirror_mode": {
    "name": "ipython",
    "version": 3
   },
   "file_extension": ".py",
   "mimetype": "text/x-python",
   "name": "python",
   "nbconvert_exporter": "python",
   "pygments_lexer": "ipython3",
   "version": "3.8.3"
  },
  "orig_nbformat": 4
 },
 "nbformat": 4,
 "nbformat_minor": 2
}
